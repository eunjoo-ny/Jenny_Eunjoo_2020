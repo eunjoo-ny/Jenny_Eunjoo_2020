{
 "cells": [
  {
   "cell_type": "code",
   "execution_count": 1,
   "metadata": {},
   "outputs": [
    {
     "name": "stdout",
     "output_type": "stream",
     "text": [
      "/Users/ahn-eunjoo/data\n"
     ]
    }
   ],
   "source": [
    "import pandas as pd\n",
    "import os\n",
    "import numpy as np\n",
    "import matplotlib.pyplot as plt\n",
    "%matplotlib inline\n",
    "\n",
    "cwd = os.getcwd()\n",
    "datadir = '/'.join(cwd.split('/')[0:-1])+'/data'\n",
    "\n",
    "print(datadir)"
   ]
  },
  {
   "cell_type": "code",
   "execution_count": 2,
   "metadata": {},
   "outputs": [
    {
     "data": {
      "text/html": [
       "<div>\n",
       "<style scoped>\n",
       "    .dataframe tbody tr th:only-of-type {\n",
       "        vertical-align: middle;\n",
       "    }\n",
       "\n",
       "    .dataframe tbody tr th {\n",
       "        vertical-align: top;\n",
       "    }\n",
       "\n",
       "    .dataframe thead th {\n",
       "        text-align: right;\n",
       "    }\n",
       "</style>\n",
       "<table border=\"1\" class=\"dataframe\">\n",
       "  <thead>\n",
       "    <tr style=\"text-align: right;\">\n",
       "      <th></th>\n",
       "      <th>id</th>\n",
       "      <th>cs_python</th>\n",
       "      <th>cs_java</th>\n",
       "      <th>cs_c</th>\n",
       "      <th>cs_perl</th>\n",
       "      <th>cs_javascript</th>\n",
       "      <th>cs_r</th>\n",
       "      <th>cs_sas</th>\n",
       "      <th>profile_1</th>\n",
       "      <th>profile_2</th>\n",
       "      <th>profile_3</th>\n",
       "      <th>profile_4</th>\n",
       "      <th>profile_5</th>\n",
       "      <th>profile_6</th>\n",
       "      <th>profile_7</th>\n",
       "      <th>len_answer</th>\n",
       "      <th>experience_coded</th>\n",
       "      <th>experience</th>\n",
       "    </tr>\n",
       "  </thead>\n",
       "  <tbody>\n",
       "    <tr>\n",
       "      <th>0</th>\n",
       "      <td>1</td>\n",
       "      <td>1</td>\n",
       "      <td>1</td>\n",
       "      <td>1</td>\n",
       "      <td>0</td>\n",
       "      <td>0</td>\n",
       "      <td>1</td>\n",
       "      <td>0</td>\n",
       "      <td>8</td>\n",
       "      <td>9</td>\n",
       "      <td>9</td>\n",
       "      <td>9</td>\n",
       "      <td>9</td>\n",
       "      <td>5</td>\n",
       "      <td>9</td>\n",
       "      <td>774</td>\n",
       "      <td>1</td>\n",
       "      <td>None, I just finished my undergrad!</td>\n",
       "    </tr>\n",
       "    <tr>\n",
       "      <th>1</th>\n",
       "      <td>2</td>\n",
       "      <td>1</td>\n",
       "      <td>1</td>\n",
       "      <td>1</td>\n",
       "      <td>0</td>\n",
       "      <td>0</td>\n",
       "      <td>0</td>\n",
       "      <td>0</td>\n",
       "      <td>6</td>\n",
       "      <td>8</td>\n",
       "      <td>6</td>\n",
       "      <td>6</td>\n",
       "      <td>6</td>\n",
       "      <td>3</td>\n",
       "      <td>8</td>\n",
       "      <td>1584</td>\n",
       "      <td>1</td>\n",
       "      <td>None, I just finished my undergrad!</td>\n",
       "    </tr>\n",
       "    <tr>\n",
       "      <th>2</th>\n",
       "      <td>3</td>\n",
       "      <td>1</td>\n",
       "      <td>0</td>\n",
       "      <td>0</td>\n",
       "      <td>0</td>\n",
       "      <td>0</td>\n",
       "      <td>1</td>\n",
       "      <td>0</td>\n",
       "      <td>5</td>\n",
       "      <td>2</td>\n",
       "      <td>6</td>\n",
       "      <td>7</td>\n",
       "      <td>5</td>\n",
       "      <td>3</td>\n",
       "      <td>7</td>\n",
       "      <td>501</td>\n",
       "      <td>1</td>\n",
       "      <td>None, I just finished my undergrad!</td>\n",
       "    </tr>\n",
       "    <tr>\n",
       "      <th>3</th>\n",
       "      <td>4</td>\n",
       "      <td>1</td>\n",
       "      <td>1</td>\n",
       "      <td>0</td>\n",
       "      <td>0</td>\n",
       "      <td>0</td>\n",
       "      <td>1</td>\n",
       "      <td>0</td>\n",
       "      <td>7</td>\n",
       "      <td>5</td>\n",
       "      <td>7</td>\n",
       "      <td>3</td>\n",
       "      <td>3</td>\n",
       "      <td>1</td>\n",
       "      <td>7</td>\n",
       "      <td>528</td>\n",
       "      <td>2</td>\n",
       "      <td>&lt; 2 years, I'm fresh!</td>\n",
       "    </tr>\n",
       "    <tr>\n",
       "      <th>4</th>\n",
       "      <td>5</td>\n",
       "      <td>1</td>\n",
       "      <td>0</td>\n",
       "      <td>0</td>\n",
       "      <td>0</td>\n",
       "      <td>1</td>\n",
       "      <td>1</td>\n",
       "      <td>1</td>\n",
       "      <td>7</td>\n",
       "      <td>5</td>\n",
       "      <td>5</td>\n",
       "      <td>6</td>\n",
       "      <td>5</td>\n",
       "      <td>7</td>\n",
       "      <td>7</td>\n",
       "      <td>715</td>\n",
       "      <td>3</td>\n",
       "      <td>2-5 years, I'm getting good at what I do!</td>\n",
       "    </tr>\n",
       "    <tr>\n",
       "      <th>...</th>\n",
       "      <td>...</td>\n",
       "      <td>...</td>\n",
       "      <td>...</td>\n",
       "      <td>...</td>\n",
       "      <td>...</td>\n",
       "      <td>...</td>\n",
       "      <td>...</td>\n",
       "      <td>...</td>\n",
       "      <td>...</td>\n",
       "      <td>...</td>\n",
       "      <td>...</td>\n",
       "      <td>...</td>\n",
       "      <td>...</td>\n",
       "      <td>...</td>\n",
       "      <td>...</td>\n",
       "      <td>...</td>\n",
       "      <td>...</td>\n",
       "      <td>...</td>\n",
       "    </tr>\n",
       "    <tr>\n",
       "      <th>158</th>\n",
       "      <td>159</td>\n",
       "      <td>1</td>\n",
       "      <td>0</td>\n",
       "      <td>0</td>\n",
       "      <td>0</td>\n",
       "      <td>0</td>\n",
       "      <td>1</td>\n",
       "      <td>0</td>\n",
       "      <td>7</td>\n",
       "      <td>7</td>\n",
       "      <td>9</td>\n",
       "      <td>7</td>\n",
       "      <td>8</td>\n",
       "      <td>1</td>\n",
       "      <td>5</td>\n",
       "      <td>485</td>\n",
       "      <td>1</td>\n",
       "      <td>None, I just finished my undergrad!</td>\n",
       "    </tr>\n",
       "    <tr>\n",
       "      <th>159</th>\n",
       "      <td>160</td>\n",
       "      <td>1</td>\n",
       "      <td>0</td>\n",
       "      <td>0</td>\n",
       "      <td>0</td>\n",
       "      <td>0</td>\n",
       "      <td>1</td>\n",
       "      <td>0</td>\n",
       "      <td>5</td>\n",
       "      <td>2</td>\n",
       "      <td>4</td>\n",
       "      <td>5</td>\n",
       "      <td>6</td>\n",
       "      <td>8</td>\n",
       "      <td>9</td>\n",
       "      <td>118</td>\n",
       "      <td>4</td>\n",
       "      <td>5+ years, I'm a veteran!</td>\n",
       "    </tr>\n",
       "    <tr>\n",
       "      <th>160</th>\n",
       "      <td>161</td>\n",
       "      <td>1</td>\n",
       "      <td>0</td>\n",
       "      <td>1</td>\n",
       "      <td>0</td>\n",
       "      <td>0</td>\n",
       "      <td>1</td>\n",
       "      <td>0</td>\n",
       "      <td>5</td>\n",
       "      <td>3</td>\n",
       "      <td>6</td>\n",
       "      <td>5</td>\n",
       "      <td>1</td>\n",
       "      <td>1</td>\n",
       "      <td>5</td>\n",
       "      <td>736</td>\n",
       "      <td>2</td>\n",
       "      <td>&lt; 2 years, I'm fresh!</td>\n",
       "    </tr>\n",
       "    <tr>\n",
       "      <th>161</th>\n",
       "      <td>162</td>\n",
       "      <td>1</td>\n",
       "      <td>0</td>\n",
       "      <td>0</td>\n",
       "      <td>0</td>\n",
       "      <td>0</td>\n",
       "      <td>0</td>\n",
       "      <td>0</td>\n",
       "      <td>3</td>\n",
       "      <td>2</td>\n",
       "      <td>8</td>\n",
       "      <td>5</td>\n",
       "      <td>1</td>\n",
       "      <td>1</td>\n",
       "      <td>7</td>\n",
       "      <td>206</td>\n",
       "      <td>1</td>\n",
       "      <td>None, I just finished my undergrad!</td>\n",
       "    </tr>\n",
       "    <tr>\n",
       "      <th>162</th>\n",
       "      <td>163</td>\n",
       "      <td>1</td>\n",
       "      <td>1</td>\n",
       "      <td>0</td>\n",
       "      <td>0</td>\n",
       "      <td>0</td>\n",
       "      <td>1</td>\n",
       "      <td>0</td>\n",
       "      <td>6</td>\n",
       "      <td>3</td>\n",
       "      <td>6</td>\n",
       "      <td>7</td>\n",
       "      <td>0</td>\n",
       "      <td>0</td>\n",
       "      <td>8</td>\n",
       "      <td>527</td>\n",
       "      <td>1</td>\n",
       "      <td>None, I just finished my undergrad!</td>\n",
       "    </tr>\n",
       "  </tbody>\n",
       "</table>\n",
       "<p>163 rows × 18 columns</p>\n",
       "</div>"
      ],
      "text/plain": [
       "      id  cs_python  cs_java  cs_c  cs_perl  cs_javascript  cs_r  cs_sas  \\\n",
       "0      1          1        1     1        0              0     1       0   \n",
       "1      2          1        1     1        0              0     0       0   \n",
       "2      3          1        0     0        0              0     1       0   \n",
       "3      4          1        1     0        0              0     1       0   \n",
       "4      5          1        0     0        0              1     1       1   \n",
       "..   ...        ...      ...   ...      ...            ...   ...     ...   \n",
       "158  159          1        0     0        0              0     1       0   \n",
       "159  160          1        0     0        0              0     1       0   \n",
       "160  161          1        0     1        0              0     1       0   \n",
       "161  162          1        0     0        0              0     0       0   \n",
       "162  163          1        1     0        0              0     1       0   \n",
       "\n",
       "     profile_1  profile_2  profile_3  profile_4  profile_5  profile_6  \\\n",
       "0            8          9          9          9          9          5   \n",
       "1            6          8          6          6          6          3   \n",
       "2            5          2          6          7          5          3   \n",
       "3            7          5          7          3          3          1   \n",
       "4            7          5          5          6          5          7   \n",
       "..         ...        ...        ...        ...        ...        ...   \n",
       "158          7          7          9          7          8          1   \n",
       "159          5          2          4          5          6          8   \n",
       "160          5          3          6          5          1          1   \n",
       "161          3          2          8          5          1          1   \n",
       "162          6          3          6          7          0          0   \n",
       "\n",
       "     profile_7  len_answer  experience_coded  \\\n",
       "0            9         774                 1   \n",
       "1            8        1584                 1   \n",
       "2            7         501                 1   \n",
       "3            7         528                 2   \n",
       "4            7         715                 3   \n",
       "..         ...         ...               ...   \n",
       "158          5         485                 1   \n",
       "159          9         118                 4   \n",
       "160          5         736                 2   \n",
       "161          7         206                 1   \n",
       "162          8         527                 1   \n",
       "\n",
       "                                    experience  \n",
       "0          None, I just finished my undergrad!  \n",
       "1          None, I just finished my undergrad!  \n",
       "2          None, I just finished my undergrad!  \n",
       "3                        < 2 years, I'm fresh!  \n",
       "4    2-5 years, I'm getting good at what I do!  \n",
       "..                                         ...  \n",
       "158        None, I just finished my undergrad!  \n",
       "159                   5+ years, I'm a veteran!  \n",
       "160                      < 2 years, I'm fresh!  \n",
       "161        None, I just finished my undergrad!  \n",
       "162        None, I just finished my undergrad!  \n",
       "\n",
       "[163 rows x 18 columns]"
      ]
     },
     "execution_count": 2,
     "metadata": {},
     "output_type": "execute_result"
    }
   ],
   "source": [
    "data = pd.read_csv('survey_responses_2019_enjoo ahn.csv',header =0 ,sep =',')\n",
    "data"
   ]
  },
  {
   "cell_type": "code",
   "execution_count": 3,
   "metadata": {},
   "outputs": [
    {
     "data": {
      "text/plain": [
       "Index(['id', 'cs_python', 'cs_java', 'cs_c', 'cs_perl', 'cs_javascript',\n",
       "       'cs_r', 'cs_sas', 'profile_1', 'profile_2', 'profile_3', 'profile_4',\n",
       "       'profile_5', 'profile_6', 'profile_7', 'len_answer', 'experience_coded',\n",
       "       'experience'],\n",
       "      dtype='object')"
      ]
     },
     "execution_count": 3,
     "metadata": {},
     "output_type": "execute_result"
    }
   ],
   "source": [
    "data.columns\n"
   ]
  },
  {
   "cell_type": "code",
   "execution_count": 4,
   "metadata": {},
   "outputs": [],
   "source": [
    "profile_mapping={1:'Viz',\n",
    "                2:'Cs',\n",
    "                3:'Math',\n",
    "                4:'Stat',\n",
    "                5:'ML',\n",
    "                6:'Bus',\n",
    "                7:'Com'}"
   ]
  },
  {
   "cell_type": "code",
   "execution_count": 5,
   "metadata": {},
   "outputs": [
    {
     "data": {
      "text/plain": [
       "Index(['id', 'cs_python', 'cs_java', 'cs_c', 'cs_perl', 'cs_javascript',\n",
       "       'cs_r', 'cs_sas', 'profile_1', 'profile_2', 'profile_3', 'profile_4',\n",
       "       'profile_5', 'profile_6', 'profile_7', 'len_answer', 'experience_coded',\n",
       "       'experience'],\n",
       "      dtype='object')"
      ]
     },
     "execution_count": 5,
     "metadata": {},
     "output_type": "execute_result"
    }
   ],
   "source": [
    "data.columns"
   ]
  },
  {
   "cell_type": "code",
   "execution_count": 6,
   "metadata": {},
   "outputs": [
    {
     "data": {
      "text/plain": [
       "Index(['id', 'cs_python', 'cs_java', 'cs_c', 'cs_perl', 'cs_javascript',\n",
       "       'cs_r', 'cs_sas', 'profile_Viz', 'profile_Cs', 'profile_Math',\n",
       "       'profile_Stat', 'profile_ML', 'profile_Bus', 'profile_Com',\n",
       "       'len_answer', 'experience_coded', 'experience'],\n",
       "      dtype='object')"
      ]
     },
     "execution_count": 6,
     "metadata": {},
     "output_type": "execute_result"
    }
   ],
   "source": [
    "newcols=[]\n",
    "\n",
    "for colnames in data.columns:\n",
    "    \n",
    "    if colnames[0:7] =='profile':\n",
    "       \n",
    "        newcols.append('profile_{}'.format(profile_mapping[int(colnames[-1])]))\n",
    "        \n",
    "    else:\n",
    "        newcols.append(colnames)\n",
    "data.columns = newcols\n",
    "#I'm confused the reversed order\n",
    "data.columns"
   ]
  },
  {
   "cell_type": "code",
   "execution_count": 7,
   "metadata": {},
   "outputs": [
    {
     "name": "stdout",
     "output_type": "stream",
     "text": [
      "After renaming:\n",
      "       id  cs_python  cs_java  cs_c  cs_perl  cs_javascript  cs_r  cs_sas  \\\n",
      "0      1          1        1     1        0              0     1       0   \n",
      "1      2          1        1     1        0              0     0       0   \n",
      "2      3          1        0     0        0              0     1       0   \n",
      "3      4          1        1     0        0              0     1       0   \n",
      "4      5          1        0     0        0              1     1       1   \n",
      "..   ...        ...      ...   ...      ...            ...   ...     ...   \n",
      "158  159          1        0     0        0              0     1       0   \n",
      "159  160          1        0     0        0              0     1       0   \n",
      "160  161          1        0     1        0              0     1       0   \n",
      "161  162          1        0     0        0              0     0       0   \n",
      "162  163          1        1     0        0              0     1       0   \n",
      "\n",
      "     profile_Viz  profile_Cs  profile_Math  profile_Stat  profile_ML  \\\n",
      "0              8           9             9             9           9   \n",
      "1              6           8             6             6           6   \n",
      "2              5           2             6             7           5   \n",
      "3              7           5             7             3           3   \n",
      "4              7           5             5             6           5   \n",
      "..           ...         ...           ...           ...         ...   \n",
      "158            7           7             9             7           8   \n",
      "159            5           2             4             5           6   \n",
      "160            5           3             6             5           1   \n",
      "161            3           2             8             5           1   \n",
      "162            6           3             6             7           0   \n",
      "\n",
      "     profile_Bus  profile_Com  len_answer  experience_coded  \\\n",
      "0              5            9         774                 1   \n",
      "1              3            8        1584                 1   \n",
      "2              3            7         501                 1   \n",
      "3              1            7         528                 2   \n",
      "4              7            7         715                 3   \n",
      "..           ...          ...         ...               ...   \n",
      "158            1            5         485                 1   \n",
      "159            8            9         118                 4   \n",
      "160            1            5         736                 2   \n",
      "161            1            7         206                 1   \n",
      "162            0            8         527                 1   \n",
      "\n",
      "                                    experience  \n",
      "0          None, I just finished my undergrad!  \n",
      "1          None, I just finished my undergrad!  \n",
      "2          None, I just finished my undergrad!  \n",
      "3                        < 2 years, I'm fresh!  \n",
      "4    2-5 years, I'm getting good at what I do!  \n",
      "..                                         ...  \n",
      "158        None, I just finished my undergrad!  \n",
      "159                   5+ years, I'm a veteran!  \n",
      "160                      < 2 years, I'm fresh!  \n",
      "161        None, I just finished my undergrad!  \n",
      "162        None, I just finished my undergrad!  \n",
      "\n",
      "[163 rows x 18 columns]\n"
     ]
    }
   ],
   "source": [
    "data.rename(columns={'profile_1':'Viz', 'profile_2':'Cs','profile_3':'Math','profile_4':'Stat','profile_5':'ML','profile_6':'Bus','profile_7':'Com'}, inplace=True)\n",
    "print(\"After renaming:\\n\",data)"
   ]
  },
  {
   "cell_type": "code",
   "execution_count": 8,
   "metadata": {},
   "outputs": [
    {
     "data": {
      "text/plain": [
       "0       774\n",
       "1      1584\n",
       "2       501\n",
       "3       528\n",
       "4       715\n",
       "       ... \n",
       "158     485\n",
       "159     118\n",
       "160     736\n",
       "161     206\n",
       "162     527\n",
       "Name: len_answer, Length: 163, dtype: int64"
      ]
     },
     "execution_count": 8,
     "metadata": {},
     "output_type": "execute_result"
    }
   ],
   "source": [
    "data.len_answer"
   ]
  },
  {
   "cell_type": "code",
   "execution_count": 9,
   "metadata": {},
   "outputs": [
    {
     "data": {
      "text/plain": [
       "(array([16., 47., 46., 28.,  6.,  7.,  7.,  3.,  2.,  1.]),\n",
       " array([   0. ,  190.1,  380.2,  570.3,  760.4,  950.5, 1140.6, 1330.7,\n",
       "        1520.8, 1710.9, 1901. ]),\n",
       " <BarContainer object of 10 artists>)"
      ]
     },
     "execution_count": 9,
     "metadata": {},
     "output_type": "execute_result"
    },
    {
     "data": {
      "image/png": "[encoded data removed]",
      "text/plain": [
       "<Figure size 432x288 with 1 Axes>"
      ]
     },
     "metadata": {
      "needs_background": "light"
     },
     "output_type": "display_data"
    }
   ],
   "source": [
    "#Student - build and plot a histogram here\n",
    "plt.hist(data.len_answer)"
   ]
  },
  {
   "cell_type": "code",
   "execution_count": 10,
   "metadata": {},
   "outputs": [
    {
     "data": {
      "text/plain": [
       "count     163.000000\n",
       "mean      523.478528\n",
       "std       348.918087\n",
       "min         0.000000\n",
       "25%       281.000000\n",
       "50%       471.000000\n",
       "75%       648.000000\n",
       "max      1901.000000\n",
       "Name: len_answer, dtype: float64"
      ]
     },
     "execution_count": 10,
     "metadata": {},
     "output_type": "execute_result"
    }
   ],
   "source": [
    "data.len_answer.describe()"
   ]
  },
  {
   "cell_type": "code",
   "execution_count": 11,
   "metadata": {},
   "outputs": [
    {
     "data": {
      "text/plain": [
       "((155, 18), (163, 18))"
      ]
     },
     "execution_count": 11,
     "metadata": {},
     "output_type": "execute_result"
    }
   ],
   "source": [
    "#Let's consider cleaning up the data. We'll remove the top k values as well as those with a length less than 50 (which we think is a generous minimum to communicate a reasonable answer.\n",
    "#Create a new data_frame that removes these outliers.\n",
    "\n",
    "\n",
    "\n",
    "#Write a function to get the kth largest value of an array\n",
    "def get_kth_largest(inarray, k):\n",
    "    inarray.sort()\n",
    "    return inarray[-k]\n",
    "\n",
    "k = 3\n",
    "kth_largest = get_kth_largest(data.len_answer.values, 3)\n",
    "#Question = why did we wrap the series into an np.array() call in the above function call?\n",
    "\n",
    "#Student create a filtered data frame here\n",
    "outlier_filter = (data.len_answer > 50) & (data.len_answer < kth_largest)\n",
    "data_clean = data[outlier_filter]\n",
    "\n",
    "#Compare the shape of both dataframes\n",
    "data_clean.shape, data.shape"
   ]
  },
  {
   "cell_type": "code",
   "execution_count": 18,
   "metadata": {},
   "outputs": [
    {
     "data": {
      "text/html": [
       "<div>\n",
       "<style scoped>\n",
       "    .dataframe tbody tr th:only-of-type {\n",
       "        vertical-align: middle;\n",
       "    }\n",
       "\n",
       "    .dataframe tbody tr th {\n",
       "        vertical-align: top;\n",
       "    }\n",
       "\n",
       "    .dataframe thead tr th {\n",
       "        text-align: left;\n",
       "    }\n",
       "\n",
       "    .dataframe thead tr:last-of-type th {\n",
       "        text-align: right;\n",
       "    }\n",
       "</style>\n",
       "<table border=\"1\" class=\"dataframe\">\n",
       "  <thead>\n",
       "    <tr>\n",
       "      <th></th>\n",
       "      <th colspan=\"3\" halign=\"left\">len_answer</th>\n",
       "    </tr>\n",
       "    <tr>\n",
       "      <th></th>\n",
       "      <th>mean</th>\n",
       "      <th>std</th>\n",
       "      <th>count</th>\n",
       "    </tr>\n",
       "    <tr>\n",
       "      <th>experience</th>\n",
       "      <th></th>\n",
       "      <th></th>\n",
       "      <th></th>\n",
       "    </tr>\n",
       "  </thead>\n",
       "  <tbody>\n",
       "    <tr>\n",
       "      <th>2-5 years, I'm getting good at what I do!</th>\n",
       "      <td>436.677419</td>\n",
       "      <td>218.647416</td>\n",
       "      <td>31</td>\n",
       "    </tr>\n",
       "    <tr>\n",
       "      <th>5+ years, I'm a veteran!</th>\n",
       "      <td>474.076923</td>\n",
       "      <td>344.158990</td>\n",
       "      <td>13</td>\n",
       "    </tr>\n",
       "    <tr>\n",
       "      <th>&lt; 2 years, I'm fresh!</th>\n",
       "      <td>543.465116</td>\n",
       "      <td>339.700453</td>\n",
       "      <td>43</td>\n",
       "    </tr>\n",
       "    <tr>\n",
       "      <th>None, I just finished my undergrad!</th>\n",
       "      <td>544.764706</td>\n",
       "      <td>298.916707</td>\n",
       "      <td>68</td>\n",
       "    </tr>\n",
       "  </tbody>\n",
       "</table>\n",
       "</div>"
      ],
      "text/plain": [
       "                                           len_answer                  \n",
       "                                                 mean         std count\n",
       "experience                                                             \n",
       "2-5 years, I'm getting good at what I do!  436.677419  218.647416    31\n",
       "5+ years, I'm a veteran!                   474.076923  344.158990    13\n",
       "< 2 years, I'm fresh!                      543.465116  339.700453    43\n",
       "None, I just finished my undergrad!        544.764706  298.916707    68"
      ]
     },
     "execution_count": 18,
     "metadata": {},
     "output_type": "execute_result"
    }
   ],
   "source": [
    "data_clean_grouped = data_clean[['len_answer','experience']].groupby(['experience']).agg(['mean','std','count'])\n",
    "data_clean_grouped"
   ]
  },
  {
   "cell_type": "code",
   "execution_count": 12,
   "metadata": {},
   "outputs": [
    {
     "data": {
      "text/plain": [
       "(163, 18)"
      ]
     },
     "execution_count": 12,
     "metadata": {},
     "output_type": "execute_result"
    }
   ],
   "source": [
    "def get_kth_largest(inarray,k):\n",
    "    inarray.sort()\n",
    "    return inarray[-k]\n",
    "\n",
    "\n",
    "k=3\n",
    "kth_largest=get_kth_largest(data.len_answer.values,k)\n",
    "data_clean=data[(data.len_answer>50) & (data.len_answer<kth_largest)]\n",
    "\n",
    "data_clean.shape\n",
    "data.shape"
   ]
  },
  {
   "cell_type": "code",
   "execution_count": 25,
   "metadata": {},
   "outputs": [],
   "source": [
    "from scipy.stats import norm\n",
    "\n",
    "def pvalue_diffmean_twotail(mu1,sig1,n1,mu2,sig2,n2):\n",
    "    diff=mu1-mu2\n",
    "    stderror=np.sqrt(sig1**2/n1+sig2**2/n2)\n",
    "    t=diff/stderror\n",
    "    p_value=2*(1-norm.cdf(np.abs(t)))\n",
    "    \n",
    "    \n",
    "    return(t,p_value)\n"
   ]
  },
  {
   "cell_type": "code",
   "execution_count": 26,
   "metadata": {},
   "outputs": [
    {
     "name": "stdout",
     "output_type": "stream",
     "text": [
      "Two tailed T-test between groups:2-5 years, I'm getting good at what I do! and 5+ years, I'm a veteran!\n",
      "Diff=-37 character\n",
      "The tstat is -0.362 and pvalue is 0.717\n",
      "Two tailed T-test between groups:2-5 years, I'm getting good at what I do! and < 2 years, I'm fresh!\n",
      "Diff=-107 character\n",
      "The tstat is -1.643 and pvalue is 0.1\n",
      "Two tailed T-test between groups:2-5 years, I'm getting good at what I do! and None, I just finished my undergrad!\n",
      "Diff=-108 character\n",
      "The tstat is -2.022 and pvalue is 0.043\n",
      "Two tailed T-test between groups:5+ years, I'm a veteran! and < 2 years, I'm fresh!\n",
      "Diff=-69 character\n",
      "The tstat is -0.639 and pvalue is 0.523\n",
      "Two tailed T-test between groups:5+ years, I'm a veteran! and None, I just finished my undergrad!\n",
      "Diff=-71 character\n",
      "The tstat is -0.692 and pvalue is 0.489\n",
      "Two tailed T-test between groups:< 2 years, I'm fresh! and None, I just finished my undergrad!\n",
      "Diff=-1 character\n",
      "The tstat is -0.021 and pvalue is 0.984\n"
     ]
    }
   ],
   "source": [
    "ttest_data=data_clean_grouped\n",
    "grps=ttest_data.index.values\n",
    "\n",
    "for i,grp1 in enumerate(grps):\n",
    "    for grp2 in grps[i+1:]:\n",
    "        row1=ttest_data.loc[grp1].loc['len_answer']\n",
    "        row2=ttest_data.loc[grp2].loc['len_answer']\n",
    "        \n",
    "        tstat, p_value=pvalue_diffmean_twotail(row1['mean'],row1['std'],\n",
    "                                               row1['count'],row2['mean'],row2['std'],row2['count'])\n",
    "        print(\"Two tailed T-test between groups:{} and {}\".format(grp1,grp2))\n",
    "        print(\"Diff={} character\".format(round(row1['mean']-row2['mean'])))\n",
    "        print(\"The tstat is {} and pvalue is {}\".format(round(tstat,3),round(p_value,3)))"
   ]
  },
  {
   "cell_type": "code",
   "execution_count": null,
   "metadata": {},
   "outputs": [],
   "source": []
  }
 ],
 "metadata": {
  "kernelspec": {
   "display_name": "Python 3",
   "language": "python",
   "name": "python3"
  },
  "language_info": {
   "codemirror_mode": {
    "name": "ipython",
    "version": 3
   },
   "file_extension": ".py",
   "mimetype": "text/x-python",
   "name": "python",
   "nbconvert_exporter": "python",
   "pygments_lexer": "ipython3",
   "version": "3.8.3"
  }
 },
 "nbformat": 4,
 "nbformat_minor": 4
}
