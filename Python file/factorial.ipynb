{
 "cells": [
  {
   "cell_type": "code",
   "execution_count": 1,
   "metadata": {},
   "outputs": [
    {
     "name": "stdout",
     "output_type": "stream",
     "text": [
      "1!: 1\n",
      "2!: 2\n",
      "3!: 6\n",
      "4!: 24\n",
      "5!: 120\n"
     ]
    }
   ],
   "source": [
    "def factorial(n):\n",
    "    if n==0:\n",
    "        return 1\n",
    "    else:\n",
    "        return n*factorial(n-1)\n",
    "print(\"1!:\",factorial(1))\n",
    "print(\"2!:\",factorial(2))\n",
    "print(\"3!:\",factorial(3))\n",
    "print(\"4!:\",factorial(4))\n",
    "print(\"5!:\",factorial(5))"
   ]
  },
  {
   "cell_type": "code",
   "execution_count": 3,
   "metadata": {},
   "outputs": [
    {
     "name": "stdout",
     "output_type": "stream",
     "text": [
      "1!: 1\n",
      "2!: 2\n",
      "3!: 6\n",
      "4!: 24\n"
     ]
    }
   ],
   "source": [
    "def factorial3(n):\n",
    "    output=1\n",
    "    for i in range(1,n+1):\n",
    "        output*=i\n",
    "    return output\n",
    "print(\"1!:\",factorial3(1))\n",
    "print(\"2!:\",factorial3(2))\n",
    "print(\"3!:\",factorial3(3))\n",
    "print(\"4!:\",factorial3(4))"
   ]
  },
  {
   "cell_type": "code",
   "execution_count": 4,
   "metadata": {
    "scrolled": true
   },
   "outputs": [
    {
     "name": "stdout",
     "output_type": "stream",
     "text": [
      "fibonacci(1): 1\n",
      "fibonacci(2): 1\n",
      "fibonacci(3): 2\n",
      "fibonacci(4): 3\n",
      "fibonacci(5): 5\n",
      "fibonacci(8): 21\n",
      "fibonacci(25): 75025\n"
     ]
    }
   ],
   "source": [
    "def fibonacci2(n):\n",
    "    if n==1:\n",
    "        return 1\n",
    "    elif n==2:\n",
    "        return 1\n",
    "    else:\n",
    "        return fibonacci2(n-1)+fibonacci2(n-2)\n",
    "print(\"fibonacci(1):\",fibonacci2(1))\n",
    "print(\"fibonacci(2):\",fibonacci2(2))\n",
    "print(\"fibonacci(3):\",fibonacci2(3))\n",
    "print(\"fibonacci(4):\",fibonacci2(4))\n",
    "print(\"fibonacci(5):\",fibonacci2(5))\n",
    "print(\"fibonacci(8):\",fibonacci2(8))\n",
    "print(\"fibonacci(25):\",fibonacci2(25))"
   ]
  },
  {
   "cell_type": "code",
   "execution_count": null,
   "metadata": {},
   "outputs": [],
   "source": []
  }
 ],
 "metadata": {
  "kernelspec": {
   "display_name": "Python 3",
   "language": "python",
   "name": "python3"
  },
  "language_info": {
   "codemirror_mode": {
    "name": "ipython",
    "version": 3
   },
   "file_extension": ".py",
   "mimetype": "text/x-python",
   "name": "python",
   "nbconvert_exporter": "python",
   "pygments_lexer": "ipython3",
   "version": "3.8.3"
  }
 },
 "nbformat": 4,
 "nbformat_minor": 4
}
